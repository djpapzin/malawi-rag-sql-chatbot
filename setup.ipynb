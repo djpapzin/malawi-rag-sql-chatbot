{
 "cells": [
  {
   "cell_type": "code",
   "execution_count": 1,
   "id": "e1839f1f",
   "metadata": {},
   "outputs": [
    {
     "name": "stdout",
     "output_type": "stream",
     "text": [
      "Directory structure created successfully!\n"
     ]
    }
   ],
   "source": [
    "import os\n",
    "\n",
    "# Create project structure\n",
    "base_dir = 'project'\n",
    "directories = [\n",
    "    f'{base_dir}/app',\n",
    "    f'{base_dir}/app/core',\n",
    "    f'{base_dir}/app/utils',\n",
    "    f'{base_dir}/app/templates'\n",
    "]\n",
    "\n",
    "# Create directories\n",
    "for dir_path in directories:\n",
    "    os.makedirs(dir_path, exist_ok=True)\n",
    "\n",
    "# Create __init__.py files\n",
    "init_files = [\n",
    "    f'{base_dir}/app/__init__.py',\n",
    "    f'{base_dir}/app/core/__init__.py',\n",
    "    f'{base_dir}/app/utils/__init__.py'\n",
    "]\n",
    "\n",
    "for init_file in init_files:\n",
    "    with open(init_file, 'w') as f:\n",
    "        f.write('# Initialize package\\n')\n",
    "\n",
    "print(\"Directory structure created successfully!\")"
   ]
  },
  {
   "cell_type": "code",
   "execution_count": 2,
   "id": "d2966e2c",
   "metadata": {},
   "outputs": [
    {
     "name": "stdout",
     "output_type": "stream",
     "text": [
      "Config file created successfully!\n"
     ]
    }
   ],
   "source": [
    "config_content = '''from pydantic_settings import BaseSettings\n",
    "from typing import Dict, List\n",
    "\n",
    "class Settings(BaseSettings):\n",
    "    # Basic Configuration\n",
    "    APP_NAME: str = \"Malawi Infrastructure Projects Chatbot\"\n",
    "    DEBUG: bool = True\n",
    "    API_VERSION: str = \"1.0.0\"\n",
    "    \n",
    "    # Database\n",
    "    DATABASE_URL: str = \"malawi_projects1.db\"\n",
    "    \n",
    "    # Model Configuration\n",
    "    EMBEDDING_MODEL: str = \"sentence-transformers/all-MiniLM-L6-v2\"\n",
    "    MAX_SEARCH_RESULTS: int = 3\n",
    "    \n",
    "    # Logging\n",
    "    LOG_LEVEL: str = \"INFO\"\n",
    "    LOG_FILE: str = \"logs/chatbot.log\"\n",
    "    \n",
    "    # Domain-Specific Keywords\n",
    "    SECTOR_KEYWORDS: Dict[str, List[str]] = {\n",
    "        'education': ['school', 'teacher', 'classroom', 'training'],\n",
    "        'health': ['hospital', 'clinic', 'healthcare', 'medical'],\n",
    "        'roads': ['bridge', 'road', 'transport', 'highway'],\n",
    "        'water': ['water', 'sanitation', 'borehole', 'irrigation']\n",
    "    }\n",
    "    \n",
    "    class Config:\n",
    "        env_file = \".env\"\n",
    "\n",
    "settings = Settings()\n",
    "'''\n",
    "\n",
    "with open('project/app/core/config.py', 'w') as f:\n",
    "    f.write(config_content)\n",
    "\n",
    "print(\"Config file created successfully!\")"
   ]
  },
  {
   "cell_type": "code",
   "execution_count": 3,
   "id": "c9fc3832",
   "metadata": {},
   "outputs": [
    {
     "name": "stdout",
     "output_type": "stream",
     "text": [
      "Test file created successfully!\n"
     ]
    }
   ],
   "source": [
    "test_content = '''\n",
    "try:\n",
    "    from app.core.config import settings\n",
    "    print(\"Import successful!\")\n",
    "    print(f\"APP_NAME: {settings.APP_NAME}\")\n",
    "except Exception as e:\n",
    "    print(f\"Error: {str(e)}\")\n",
    "'''\n",
    "\n",
    "with open('project/test_import.py', 'w') as f:\n",
    "    f.write(test_content)\n",
    "\n",
    "print(\"Test file created successfully!\")"
   ]
  },
  {
   "cell_type": "code",
   "execution_count": 4,
   "id": "cab7f69d",
   "metadata": {},
   "outputs": [
    {
     "name": "stdout",
     "output_type": "stream",
     "text": [
      "Environment file created successfully!\n"
     ]
    }
   ],
   "source": [
    "env_content = '''APP_NAME=\"Malawi Infrastructure Projects Chatbot\"\n",
    "DEBUG=True\n",
    "API_VERSION=\"1.0.0\"\n",
    "DATABASE_URL=\"malawi_projects1.db\"\n",
    "EMBEDDING_MODEL=\"sentence-transformers/all-MiniLM-L6-v2\"\n",
    "LOG_LEVEL=\"INFO\"\n",
    "'''\n",
    "\n",
    "with open('project/.env', 'w') as f:\n",
    "    f.write(env_content)\n",
    "\n",
    "print(\"Environment file created successfully!\")"
   ]
  },
  {
   "cell_type": "code",
   "execution_count": 5,
   "id": "d173a39f",
   "metadata": {},
   "outputs": [
    {
     "name": "stdout",
     "output_type": "stream",
     "text": [
      "Testing imports...\n",
      "\n",
      "Config import successful!\n",
      "APP_NAME: Malawi Infrastructure Projects Chatbot\n",
      "\n",
      "Logger import successful!\n",
      "INFO: Test log message\n",
      "\n",
      "Error handler import successful!\n",
      "\n",
      "Helpers import successful!\n"
     ]
    }
   ],
   "source": [
    "# test_imports.py\n",
    "\n",
    "print(\"Testing imports...\")\n",
    "\n",
    "try:\n",
    "    from app.core.config import settings\n",
    "    print(\"\\nConfig import successful!\")\n",
    "    print(f\"APP_NAME: {settings.APP_NAME}\")\n",
    "except Exception as e:\n",
    "    print(f\"\\nConfig import failed: {str(e)}\")\n",
    "\n",
    "try:\n",
    "    from app.core.logger import logger\n",
    "    print(\"\\nLogger import successful!\")\n",
    "    logger.info(\"Test log message\")\n",
    "except Exception as e:\n",
    "    print(f\"\\nLogger import failed: {str(e)}\")\n",
    "\n",
    "try:\n",
    "    from app.core.error_handler import handle_error\n",
    "    print(\"\\nError handler import successful!\")\n",
    "except Exception as e:\n",
    "    print(f\"\\nError handler import failed: {str(e)}\")\n",
    "\n",
    "try:\n",
    "    from app.utils.helpers import analyze_question_intent\n",
    "    print(\"\\nHelpers import successful!\")\n",
    "except Exception as e:\n",
    "    print(f\"\\nHelpers import failed: {str(e)}\")"
   ]
  },
  {
   "cell_type": "code",
   "execution_count": 6,
   "id": "f42bc5a3",
   "metadata": {},
   "outputs": [],
   "source": [
    "# app/core/config.py\n",
    "from pydantic_settings import BaseSettings\n",
    "from typing import Dict, List\n",
    "\n",
    "class Settings(BaseSettings):\n",
    "    # Basic Configuration\n",
    "    APP_NAME: str = \"Malawi Infrastructure Projects Chatbot\"\n",
    "    DEBUG: bool = True\n",
    "    DATABASE_URL: str = \"malawi_projects1.db\"  # Make sure this points to your database\n",
    "    MAX_SEARCH_RESULTS: int = 3\n",
    "    EMBEDDING_MODEL: str = \"sentence-transformers/all-MiniLM-L6-v2\"\n",
    "\n",
    "settings = Settings()"
   ]
  },
  {
   "cell_type": "code",
   "execution_count": 7,
   "id": "246a527e",
   "metadata": {},
   "outputs": [],
   "source": [
    "# app/utils/helpers.py\n",
    "def format_project_info(project_data):\n",
    "    \"\"\"Format project information for display\"\"\"\n",
    "    return f\"\"\"📍 Project: {project_data['PROJECTNAME']}\n",
    "    • Code: {project_data['PROJECTCODE']}\n",
    "    • Location: {project_data['REGION']}, {project_data['DISTRICT']}\n",
    "    • Sector: {project_data['PROJECTSECTOR']}\n",
    "    • Status: {project_data['PROJECTSTATUS']}\n",
    "    • Budget: MK {project_data.get('BUDGET', 0):,.2f}\n",
    "    • Completion: {project_data.get('COMPLETIONPERCENTAGE', 0)}%\"\"\"\n",
    "\n",
    "def analyze_question(question: str):\n",
    "    \"\"\"Analyze question to determine intent\"\"\"\n",
    "    question_lower = question.lower()\n",
    "    \n",
    "    analysis = {\n",
    "        \"type\": \"general\",\n",
    "        \"sector\": None,\n",
    "        \"region\": None,\n",
    "        \"status\": None\n",
    "    }\n",
    "    \n",
    "    # Check for sectors\n",
    "    sectors = {\n",
    "        \"education\": [\"school\", \"education\", \"training\"],\n",
    "        \"health\": [\"health\", \"hospital\", \"clinic\"],\n",
    "        \"roads\": [\"road\", \"bridge\", \"transport\"],\n",
    "        \"water\": [\"water\", \"sanitation\"]\n",
    "    }\n",
    "    \n",
    "    for sector, keywords in sectors.items():\n",
    "        if any(keyword in question_lower for keyword in keywords):\n",
    "            analysis[\"sector\"] = sector\n",
    "    \n",
    "    # Check for regions\n",
    "    regions = [\"central region\", \"northern region\", \"southern region\"]\n",
    "    for region in regions:\n",
    "        if region in question_lower:\n",
    "            analysis[\"region\"] = region\n",
    "    \n",
    "    # Check for status\n",
    "    if any(word in question_lower for word in [\"complete\", \"finished\"]):\n",
    "        analysis[\"status\"] = \"completed\"\n",
    "    elif any(word in question_lower for word in [\"ongoing\", \"current\"]):\n",
    "        analysis[\"status\"] = \"ongoing\"\n",
    "    \n",
    "    return analysis"
   ]
  },
  {
   "cell_type": "code",
   "execution_count": 8,
   "id": "22c33824",
   "metadata": {},
   "outputs": [],
   "source": [
    "# app/utils/helpers.py\n",
    "def format_project_info(project_data):\n",
    "    \"\"\"Format project information for display\"\"\"\n",
    "    return f\"\"\"📍 Project: {project_data['PROJECTNAME']}\n",
    "    • Code: {project_data['PROJECTCODE']}\n",
    "    • Location: {project_data['REGION']}, {project_data['DISTRICT']}\n",
    "    • Sector: {project_data['PROJECTSECTOR']}\n",
    "    • Status: {project_data['PROJECTSTATUS']}\n",
    "    • Budget: MK {project_data.get('BUDGET', 0):,.2f}\n",
    "    • Completion: {project_data.get('COMPLETIONPERCENTAGE', 0)}%\"\"\"\n",
    "\n",
    "def analyze_question(question: str):\n",
    "    \"\"\"Analyze question to determine intent\"\"\"\n",
    "    question_lower = question.lower()\n",
    "    \n",
    "    analysis = {\n",
    "        \"type\": \"general\",\n",
    "        \"sector\": None,\n",
    "        \"region\": None,\n",
    "        \"status\": None\n",
    "    }\n",
    "    \n",
    "    # Check for sectors\n",
    "    sectors = {\n",
    "        \"education\": [\"school\", \"education\", \"training\"],\n",
    "        \"health\": [\"health\", \"hospital\", \"clinic\"],\n",
    "        \"roads\": [\"road\", \"bridge\", \"transport\"],\n",
    "        \"water\": [\"water\", \"sanitation\"]\n",
    "    }\n",
    "    \n",
    "    for sector, keywords in sectors.items():\n",
    "        if any(keyword in question_lower for keyword in keywords):\n",
    "            analysis[\"sector\"] = sector\n",
    "    \n",
    "    # Check for regions\n",
    "    regions = [\"central region\", \"northern region\", \"southern region\"]\n",
    "    for region in regions:\n",
    "        if region in question_lower:\n",
    "            analysis[\"region\"] = region\n",
    "    \n",
    "    # Check for status\n",
    "    if any(word in question_lower for word in [\"complete\", \"finished\"]):\n",
    "        analysis[\"status\"] = \"completed\"\n",
    "    elif any(word in question_lower for word in [\"ongoing\", \"current\"]):\n",
    "        analysis[\"status\"] = \"ongoing\"\n",
    "    \n",
    "    return analysis"
   ]
  },
  {
   "cell_type": "code",
   "execution_count": null,
   "id": "e1f83129",
   "metadata": {},
   "outputs": [],
   "source": []
  }
 ],
 "metadata": {
  "kernelspec": {
   "display_name": "Python 3 (ipykernel)",
   "language": "python",
   "name": "python3"
  },
  "language_info": {
   "codemirror_mode": {
    "name": "ipython",
    "version": 3
   },
   "file_extension": ".py",
   "mimetype": "text/x-python",
   "name": "python",
   "nbconvert_exporter": "python",
   "pygments_lexer": "ipython3",
   "version": "3.10.9"
  }
 },
 "nbformat": 4,
 "nbformat_minor": 5
}
